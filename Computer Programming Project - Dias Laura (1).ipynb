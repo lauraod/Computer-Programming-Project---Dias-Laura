{
 "cells": [
  {
   "cell_type": "markdown",
   "id": "fefc77a7",
   "metadata": {},
   "source": [
    "# Emotional Flexibility"
   ]
  },
  {
   "cell_type": "markdown",
   "id": "eb13d686",
   "metadata": {},
   "source": [
    "### Introduction"
   ]
  },
  {
   "cell_type": "markdown",
   "id": "9a4566e3",
   "metadata": {},
   "source": [
    "The following script is an analysis of behavioral data collected in the context of an experiment on Emotional Flexibility. \n",
    "\n",
    "In the experiment the participants are presented with several pairs images of different emotional valences (emotionally positive or negative). The first picture of the pair is a cropped picture and the second is the full picture. Sometimes the emotional valence changes between pictures and other times it doesn't, following no specific pattern. Emotional flexibility is the ability to correctly perceive and adapt to novel emotional stimuli and is quantified by the switch cost mean which we measured during this experiment. \n",
    "\n",
    "In this analysis, it is possible to visualize the Switch cost mean and the Depression, Anxiety and Stress scores (from the DASS-21 Questionnaire). \n"
   ]
  },
  {
   "cell_type": "code",
   "execution_count": 48,
   "id": "6a406717",
   "metadata": {
    "scrolled": true
   },
   "outputs": [
    {
     "name": "stdout",
     "output_type": "stream",
     "text": [
      "   participant  Gender  Age  Switch cost mean  DASS_A  DASS_S  DASS_D\n",
      "0        EST01       1   27        168.514007       2       2       2\n",
      "1        est02       2   25        -67.417208       5       7       5\n",
      "2        EST04       2   24       -280.578283       7       9       7\n",
      "3        est05       1   20        -46.364578       3       6       3\n",
      "4        EST06       2   27        -28.293623       0       4       1\n",
      "5        EST07       2   25        -82.826398       0       1       0\n",
      "6        EST08       1   25         55.103061       6       3       6\n",
      "7        EST09       2   24         72.851342       0       3       0\n",
      "8        EST11       1   24        -14.078947       0       1       0\n",
      "9        EST13       2   26        161.616136       5       8       5\n",
      "10       EST14       2   27        -28.656342       6       7       6\n",
      "11       EST16       2   20         58.004388       0       6       0\n",
      "12       EST17       2   22         29.381159       4       6       4\n",
      "13       EST18       2   21        231.948202       0       3       0\n",
      "14       EST19       1   19         50.297213       4      11       5\n",
      "15       EST20       1   21       -249.031604       1       7       3\n",
      "16       EST21       2   21        129.526264      11      11      13\n",
      "17       EST22       2   20        297.687721       1       5       1\n",
      "18       EST23       2   21       -161.899683       1       3       2\n",
      "19       EST24       2   23        -31.456598       0       0       1\n",
      "20       EST25       2   26         63.321910       3       8       6\n",
      "21       EST26       2   20         61.455991       8      15      11\n",
      "22       est27       1   20       -150.265107       1       9       3\n",
      "23       est28       2   21         20.361441       2       4       2\n",
      "24       EST29       2   24         33.662095       6       4       8\n"
     ]
    }
   ],
   "source": [
    "import pandas as pd\n",
    "import numpy as np\n",
    "import matplotlib.pyplot as plt\n",
    "data=pd.read_csv('new_data_python.csv')\n",
    "\n",
    "print(data)"
   ]
  },
  {
   "cell_type": "code",
   "execution_count": 49,
   "id": "c39355b3",
   "metadata": {},
   "outputs": [
    {
     "name": "stdout",
     "output_type": "stream",
     "text": [
      "  participant  Gender  Age  Switch cost mean  DASS_A  DASS_S  DASS_D\n",
      "0       EST01       1   27        168.514007       2       2       2\n",
      "1       est02       2   25        -67.417208       5       7       5\n",
      "2       EST04       2   24       -280.578283       7       9       7\n",
      "3       est05       1   20        -46.364578       3       6       3\n",
      "4       EST06       2   27        -28.293623       0       4       1\n",
      "          Gender        Age  Switch cost mean    DASS_A     DASS_S     DASS_D\n",
      "count  25.000000  25.000000         25.000000  25.00000  25.000000  25.000000\n",
      "mean    1.720000  22.920000         11.714502   3.04000   5.720000   3.760000\n",
      "std     0.458258   2.612789        135.494912   3.04795   3.588407   3.479464\n",
      "min     1.000000  19.000000       -280.578283   0.00000   0.000000   0.000000\n",
      "25%     1.000000  21.000000        -46.364578   0.00000   3.000000   1.000000\n",
      "50%     2.000000  23.000000         29.381159   2.00000   6.000000   3.000000\n",
      "75%     2.000000  25.000000         63.321910   5.00000   8.000000   6.000000\n",
      "max     2.000000  27.000000        297.687721  11.00000  15.000000  13.000000\n",
      "<class 'pandas.core.frame.DataFrame'>\n",
      "RangeIndex: 25 entries, 0 to 24\n",
      "Data columns (total 7 columns):\n",
      " #   Column            Non-Null Count  Dtype  \n",
      "---  ------            --------------  -----  \n",
      " 0   participant       25 non-null     object \n",
      " 1   Gender            25 non-null     int64  \n",
      " 2   Age               25 non-null     int64  \n",
      " 3   Switch cost mean  25 non-null     float64\n",
      " 4   DASS_A            25 non-null     int64  \n",
      " 5   DASS_S            25 non-null     int64  \n",
      " 6   DASS_D            25 non-null     int64  \n",
      "dtypes: float64(1), int64(5), object(1)\n",
      "memory usage: 1.5+ KB\n",
      "None\n"
     ]
    }
   ],
   "source": [
    "print(data.head())\n",
    "print(data.describe())\n",
    "print(data.info())"
   ]
  },
  {
   "cell_type": "code",
   "execution_count": 50,
   "id": "dec8ffb9",
   "metadata": {},
   "outputs": [],
   "source": [
    "data=data.dropna()\n",
    "data=data.drop_duplicates()"
   ]
  },
  {
   "cell_type": "markdown",
   "id": "199be3f8",
   "metadata": {},
   "source": [
    "### Variation of the Switch cost mean"
   ]
  },
  {
   "cell_type": "markdown",
   "id": "777040e4",
   "metadata": {},
   "source": [
    "This boxplot shows the variation of the Switch cost mean in the group of participants.\n",
    "\n"
   ]
  },
  {
   "cell_type": "code",
   "execution_count": 51,
   "id": "0ce9cf1f",
   "metadata": {
    "scrolled": false
   },
   "outputs": [
    {
     "data": {
      "image/png": "[encoded data removed]",
      "text/plain": [
       "<Figure size 640x480 with 1 Axes>"
      ]
     },
     "metadata": {},
     "output_type": "display_data"
    }
   ],
   "source": [
    "# Customizing the boxplot\n",
    "plt.boxplot(data['Switch cost mean'], boxprops={'color': 'red'}, whiskerprops={'color': 'blue', 'linewidth': 2, 'linestyle': '--'},\n",
    "            medianprops={'color': 'green'})\n",
    "plt.xticks([], [])\n",
    "plt.title('Switch Cost Mean', fontsize=14)\n",
    "\n",
    "#Displaying the plot\n",
    "plt.show()"
   ]
  },
  {
   "cell_type": "markdown",
   "id": "a60745eb",
   "metadata": {},
   "source": [
    "### Comparisson of the Depression Anxiety and Stress Sores (DASS)"
   ]
  },
  {
   "cell_type": "markdown",
   "id": "36c31095",
   "metadata": {},
   "source": [
    "This section shows the Boxplots for the Depression, Anxiety and Stress Scores, which might have an influence on the individual's emotional flexibility.\n",
    "\n"
   ]
  },
  {
   "cell_type": "code",
   "execution_count": 54,
   "id": "479d0581",
   "metadata": {},
   "outputs": [
    {
     "data": {
      "image/png": "[encoded data removed]",
      "text/plain": [
       "<Figure size 1200x600 with 3 Axes>"
      ]
     },
     "metadata": {},
     "output_type": "display_data"
    }
   ],
   "source": [
    "# Customizing the boxplot\n",
    "fig, axs = plt.subplots(1, 3, figsize=(12, 6))\n",
    "\n",
    "axs[0].boxplot(data['DASS_D'], boxprops={'color': 'red'}, whiskerprops={'color': 'blue', 'linewidth': 2, 'linestyle': '--'},\n",
    "            medianprops={'color': 'green'})\n",
    "axs[0].set_xticks([]) \n",
    "axs[0].set_ylim(-2, 16)\n",
    "axs[0].set_title('Depression Score')\n",
    "\n",
    "\n",
    "axs[1].boxplot(data['DASS_A'], boxprops={'color': 'red'}, whiskerprops={'color': 'blue', 'linewidth': 2, 'linestyle': '--'},\n",
    "            medianprops={'color': 'green'})\n",
    "axs[1].set_xticks([]) \n",
    "axs[1].set_ylim(-2, 16)\n",
    "axs[1].set_title('Anxiety Score')\n",
    "\n",
    "\n",
    "axs[2].boxplot(data['DASS_S'], boxprops={'color': 'red'}, whiskerprops={'color': 'blue', 'linewidth': 2, 'linestyle': '--'},\n",
    "            medianprops={'color': 'green'})\n",
    "axs[2].set_xticks([]) \n",
    "axs[2].set_ylim(-2, 16)\n",
    "axs[2].set_title('Stress Score')\n",
    "\n",
    "#Displaying the plot\n",
    "plt.show()"
   ]
  }
 ],
 "metadata": {
  "kernelspec": {
   "display_name": "Python 3 (ipykernel)",
   "language": "python",
   "name": "python3"
  },
  "language_info": {
   "codemirror_mode": {
    "name": "ipython",
    "version": 3
   },
   "file_extension": ".py",
   "mimetype": "text/x-python",
   "name": "python",
   "nbconvert_exporter": "python",
   "pygments_lexer": "ipython3",
   "version": "3.10.9"
  }
 },
 "nbformat": 4,
 "nbformat_minor": 5
}
